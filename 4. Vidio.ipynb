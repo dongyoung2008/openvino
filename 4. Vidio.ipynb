{
 "cells": [
  {
   "cell_type": "markdown",
   "id": "83e9ed93-fb29-46ed-a83a-adb81b9b7fe4",
   "metadata": {},
   "source": [
    "# 웹캠"
   ]
  },
  {
   "cell_type": "code",
   "execution_count": 8,
   "id": "a3b36aca-28d3-464e-8d7e-d3d8146b13fc",
   "metadata": {
    "tags": []
   },
   "outputs": [],
   "source": [
    "import cv2\n",
    "\n",
    "def Main():\n",
    "    camera = cv2.VideoCapture(source)\n",
    "    \n",
    "    while(True):\n",
    "        \n",
    "        ret, frame = camera.read()\n",
    "        \n",
    "        if not ret:\n",
    "            break\n",
    "        \n",
    "        cv2.imshow(\"Webcam\",frame)\n",
    "        \n",
    "        if cv2.waitKey(1) & 0xFF == ord('q'):\n",
    "            break\n",
    "\n",
    "    camera.release();\n",
    "    cv2.destroyAllWindows()\n",
    "    "
   ]
  },
  {
   "cell_type": "code",
   "execution_count": 9,
   "id": "32203a98-052e-4f5d-b21b-ed00315509a1",
   "metadata": {
    "tags": []
   },
   "outputs": [],
   "source": [
    "source = \"data/manv.mp4\"\n",
    "\n",
    "if __name__ == '__main__' :\n",
    "    Main()"
   ]
  },
  {
   "cell_type": "markdown",
   "id": "85f66404-5af1-439b-bb7c-40e351f99b6b",
   "metadata": {},
   "source": [
    "# 얼굴감지와 웹캠"
   ]
  },
  {
   "cell_type": "code",
   "execution_count": 1,
   "id": "d01c2b7d-76be-4d9a-b625-0ff1d684c548",
   "metadata": {
    "tags": []
   },
   "outputs": [],
   "source": [
    "import cv2\n",
    "import numpy as np\n",
    "import openvino as ov"
   ]
  },
  {
   "cell_type": "markdown",
   "id": "988a25db-cd1c-4712-8779-2561b9654e22",
   "metadata": {},
   "source": [
    "## 모델 부르기"
   ]
  },
  {
   "cell_type": "code",
   "execution_count": 2,
   "id": "a472b422-0d74-40e9-8cc6-9e146b3a52ca",
   "metadata": {
    "tags": []
   },
   "outputs": [
    {
     "name": "stdout",
     "output_type": "stream",
     "text": [
      "Input shape: [1,3,384,672]\n",
      "Output shape: [1,1,200,7]\n",
      "Input shape: [1,3,64,64]\n",
      "Output shape: [1,5,1,1]\n",
      "Input shape: [1,3,62,62]\n",
      "Output shape: <bound method PyCapsule.output of <CompiledModel:\n",
      "inputs[\n",
      "<ConstOutput: names[data] shape[1,3,62,62] type: f32>\n",
      "]\n",
      "outputs[\n",
      "<ConstOutput: names[prob] shape[1,2,1,1] type: f32>,\n",
      "<ConstOutput: names[age_conv3, fc3_a] shape[1,1,1,1] type: f32>\n",
      "]>>\n"
     ]
    }
   ],
   "source": [
    "core = ov.Core()\n",
    "model_face = core.read_model(model='models/face/face-detection-adas-0001.xml') \n",
    "compiled_model_face = core.compile_model (model = model_face, device_name=\"CPU\")\n",
    "\n",
    "input_layer_face = compiled_model_face.input(0) \n",
    "output_layer_face = compiled_model_face.output(0)\n",
    "\n",
    "print(\"Input shape:\", input_layer_face.shape) \n",
    "print(\"Output shape:\", output_layer_face.shape)\n",
    "\n",
    "model_emo = core.read_model(model='models/emotion/emotions-recognition-retail-0003.xml') \n",
    "compiled_model_emo = core.compile_model (model = model_emo, device_name=\"CPU\")\n",
    "\n",
    "input_layer_emo = compiled_model_emo.input(0) \n",
    "output_layer_emo = compiled_model_emo.output(0)\n",
    "\n",
    "print(\"Input shape:\", input_layer_emo.shape) \n",
    "print(\"Output shape:\", output_layer_emo.shape)\n",
    "\n",
    "model_ag = core.read_model(model='models/agegender/age-gender-recognition-retail-0013.xml') \n",
    "compiled_model_ag = core.compile_model (model = model_ag, device_name=\"CPU\")\n",
    "\n",
    "input_layer_ag = compiled_model_ag.input(0) \n",
    "output_layer_ag = compiled_model_ag.output\n",
    "\n",
    "print(\"Input shape:\", input_layer_ag.shape) \n",
    "print(\"Output shape:\", output_layer_ag)"
   ]
  },
  {
   "cell_type": "markdown",
   "id": "26a37742-0252-42de-a22c-1a650a27e965",
   "metadata": {},
   "source": [
    "### pre process new input data"
   ]
  },
  {
   "cell_type": "code",
   "execution_count": 3,
   "id": "b68f0835-d902-444a-a0c1-bc32ae61d71c",
   "metadata": {
    "tags": []
   },
   "outputs": [],
   "source": [
    "import numpy as np\n",
    "def preprocess(frame, input_layer):\n",
    "    N, input_channels, input_height, input_width = input_layer.shape\n",
    "    \n",
    "    resized_frame = cv2.resize(frame, (input_width, input_height))\n",
    "    transposed_frame = resized_frame.transpose(2,0,1)\n",
    "    input_frame = np. expand_dims(transposed_frame, 0)\n",
    "    \n",
    "    return input_frame\n",
    "    "
   ]
  },
  {
   "cell_type": "markdown",
   "id": "4be806c4-9a43-49ef-ab9e-43117dad9a39",
   "metadata": {},
   "source": [
    "### postprocess the results"
   ]
  },
  {
   "cell_type": "code",
   "execution_count": 4,
   "id": "a2e9bfb1-4009-47cb-b49c-9c2e21ef8ece",
   "metadata": {
    "tags": []
   },
   "outputs": [],
   "source": [
    "def find_faceboxes(frame, results, confidence_threshold):\n",
    "    results = results.squeeze()\n",
    "    \n",
    "    scores = results[:,2]\n",
    "    boxes = results[:,-4:]\n",
    "    \n",
    "    face_boxes = boxes[scores >= confidence_threshold]\n",
    "    scores = scores[scores >= confidence_threshold]\n",
    "    \n",
    "    frame_h, frame_w, frame_channels = frame.shape\n",
    "    face_boxes = face_boxes*np.array([frame_w, frame_h, frame_w, frame_h])\n",
    "    face_boxes = face_boxes.astype(np.int64)\n",
    "    \n",
    "    return face_boxes, scores"
   ]
  },
  {
   "cell_type": "markdown",
   "id": "6ad5d768-ba32-48ab-ab75-2d0d15781fbd",
   "metadata": {},
   "source": [
    "### draw_age_gender"
   ]
  },
  {
   "cell_type": "code",
   "execution_count": 5,
   "id": "1509d356-9e82-4b57-a26d-d1674dfc020c",
   "metadata": {
    "tags": []
   },
   "outputs": [],
   "source": [
    "def draw_age_gender_emotion(face_boxes, frame):\n",
    "    \n",
    "    show_frame = frame.copy()\n",
    "    EMOTION_NAMES = ['neutral', 'happy', 'sad', 'surprise', 'anger']\n",
    "    for i in range(len(face_boxes)):\n",
    "        \n",
    "            xmin, ymin, xmax, ymax = face_boxes[i]\n",
    "            face = frame[ymin:ymax, xmin:xmax]\n",
    "            \n",
    "            #---emotion---\n",
    "            input_frame = preprocess(face, input_layer_emo)\n",
    "            results_emo = compiled_model_emo([input_frame])[output_layer_emo]\n",
    "        \n",
    "            results_emo = results_emo.squeeze()\n",
    "            index = np.argmax(results_emo)\n",
    "            #---emotion---\n",
    "            \n",
    "            \n",
    "            # --- age gender ---\n",
    "            input_frame_ag = preprocess(face, input_layer_ag)\n",
    "            results_ag = compiled_model_ag([input_frame_ag])\n",
    "            age, gender = results_ag[1], results_ag[0]\n",
    "            \n",
    "            age = np.squeeze(age)\n",
    "            age = int(age*100)\n",
    "            \n",
    "            gender = np.squeeze(gender)\n",
    "            \n",
    "            if (gender[0] >= 0.65):\n",
    "                gender = \"female\"\n",
    "                box_color = (255,153,255)\n",
    "            elif (gender[1] >= 0.65):\n",
    "                gender = \"male\"\n",
    "                box_color = (255,204,154)\n",
    "            else :\n",
    "                gender = \"unknown\"\n",
    "                box_color = (0,0,0)\n",
    "                \n",
    "            \n",
    "            #print(\"Age:\",age)\n",
    "            #print(\"Gender:\",gender)\n",
    "            #print(results_ag)\n",
    "            # --- age gender ---\n",
    "            \n",
    "            fontScale = frame.shape[1]/750\n",
    "           \n",
    "            text = gender + ' ' + str(age) + ' ' + EMOTION_NAMES[index]\n",
    "            cv2.putText(show_frame,text,(xmin,ymin), cv2.FONT_HERSHEY_SIMPLEX, fontScale, box_color ,4)\n",
    "            cv2.rectangle(img=show_frame, pt1=(xmin,ymin), pt2=(xmax,ymax), color= box_color ,thickness=4)\n",
    "    \n",
    "    return show_frame\n",
    "            "
   ]
  },
  {
   "cell_type": "markdown",
   "id": "9c1381b9-d860-4077-acef-542d8ad275e2",
   "metadata": {
    "tags": []
   },
   "source": [
    "# Run inference"
   ]
  },
  {
   "cell_type": "code",
   "execution_count": 6,
   "id": "9eae857b-63c8-436c-a01b-e3ec623f6b24",
   "metadata": {
    "tags": []
   },
   "outputs": [],
   "source": [
    "import cv2\n",
    "\n",
    "def Main():\n",
    "    camera = cv2.VideoCapture(source)\n",
    "    \n",
    "    while(True):\n",
    "        \n",
    "        ret, frame = camera.read()\n",
    "        \n",
    "        if not ret:\n",
    "            break\n",
    "            \n",
    "        input_frame = preprocess(frame, input_layer_face)\n",
    "        results = compiled_model_face([input_frame])[output_layer_face]\n",
    "\n",
    "        \n",
    "        face_boxes, scores = find_faceboxes(frame, results, confidence_threshold)\n",
    "        show_frame = draw_age_gender_emotion(face_boxes, frame)\n",
    "        \n",
    "        cv2.imshow(\"Webcam\",show_frame)\n",
    "        \n",
    "        if cv2.waitKey(1) & 0xFF == ord('q'):\n",
    "            break\n",
    "\n",
    "    camera.release();\n",
    "    cv2.destroyAllWindows()\n",
    "\n",
    "confidence_threshold = .95\n",
    "source = \"data/manv.mp4\"\n",
    "\n",
    "if __name__ == '__main__' :\n",
    "    Main()\n",
    "    "
   ]
  },
  {
   "cell_type": "code",
   "execution_count": 7,
   "id": "6f06239c-8dac-4898-9fe0-0cc5bf349270",
   "metadata": {
    "tags": []
   },
   "outputs": [],
   "source": [
    "import cv2\n",
    "\n",
    "def Main():\n",
    "    camera = cv2.VideoCapture(0)  \n",
    "    while True:\n",
    "        ret, frame = camera.read()\n",
    "        \n",
    "        \n",
    "        if not ret:\n",
    "            break\n",
    "            \n",
    "        input_frame = preprocess(frame, input_layer_face)\n",
    "        results = compiled_model_face([input_frame])[output_layer_face]\n",
    "        \n",
    "        face_boxes, scores = find_faceboxes(frame, results, confidence_threshold)\n",
    "        show_frame = draw_age_gender_emotion(face_boxes, frame)\n",
    "        \n",
    "        cv2.imshow(\"Webcam\", show_frame)\n",
    "        \n",
    "        if cv2.waitKey(1) & 0xFF == ord('q'):\n",
    "            break\n",
    "\n",
    "    camera.release()\n",
    "    cv2.destroyAllWindows()\n",
    "\n",
    "confidence_threshold = .95\n",
    "source = 0 \n",
    "\n",
    "if __name__ == '__main__':\n",
    "    Main()\n"
   ]
  },
  {
   "cell_type": "code",
   "execution_count": null,
   "id": "74321dcc-52a1-4942-b6dd-90751b08169a",
   "metadata": {},
   "outputs": [],
   "source": []
  },
  {
   "cell_type": "code",
   "execution_count": null,
   "id": "ec6de337-5ee6-41f7-9205-811a0c833d7e",
   "metadata": {},
   "outputs": [],
   "source": []
  }
 ],
 "metadata": {
  "kernelspec": {
   "display_name": "Python 3 (ipykernel)",
   "language": "python",
   "name": "python3"
  },
  "language_info": {
   "codemirror_mode": {
    "name": "ipython",
    "version": 3
   },
   "file_extension": ".py",
   "mimetype": "text/x-python",
   "name": "python",
   "nbconvert_exporter": "python",
   "pygments_lexer": "ipython3",
   "version": "3.11.5"
  }
 },
 "nbformat": 4,
 "nbformat_minor": 5
}
